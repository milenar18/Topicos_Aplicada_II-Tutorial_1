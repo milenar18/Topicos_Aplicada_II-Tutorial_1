{
  "nbformat": 4,
  "nbformat_minor": 0,
  "metadata": {
    "colab": {
      "provenance": []
    },
    "kernelspec": {
      "name": "python3",
      "display_name": "Python 3"
    },
    "language_info": {
      "name": "python"
    }
  },
  "cells": [
    {
      "cell_type": "code",
      "execution_count": 4,
      "metadata": {
        "colab": {
          "base_uri": "https://localhost:8080/"
        },
        "id": "ggme1aUwImI2",
        "outputId": "e6c9e1ab-e347-4aaf-acde-0bd405e67a23"
      },
      "outputs": [
        {
          "output_type": "stream",
          "name": "stdout",
          "text": [
            "Collecting gudhi\n",
            "  Downloading gudhi-3.11.0-cp311-cp311-manylinux_2_28_x86_64.whl.metadata (1.6 kB)\n",
            "Requirement already satisfied: numpy>=1.15.0 in /usr/local/lib/python3.11/dist-packages (from gudhi) (2.0.2)\n",
            "Downloading gudhi-3.11.0-cp311-cp311-manylinux_2_28_x86_64.whl (4.2 MB)\n",
            "\u001b[2K   \u001b[90m━━━━━━━━━━━━━━━━━━━━━━━━━━━━━━━━━━━━━━━━\u001b[0m \u001b[32m4.2/4.2 MB\u001b[0m \u001b[31m52.1 MB/s\u001b[0m eta \u001b[36m0:00:00\u001b[0m\n",
            "\u001b[?25hInstalling collected packages: gudhi\n",
            "Successfully installed gudhi-3.11.0\n",
            "Requirement already satisfied: networkx in /usr/local/lib/python3.11/dist-packages (3.4.2)\n",
            "Característica de Euler para a letra A: 1\n",
            "Característica de Euler para a letra B: 0\n",
            "Característica de Euler para a letra C: 1\n",
            "Característica de Euler para a letra D: 2\n",
            "Característica de Euler para a letra E: 1\n",
            "Característica de Euler para a letra F: 1\n",
            "Característica de Euler para a letra G: 1\n"
          ]
        }
      ],
      "source": [
        "!pip install gudhi\n",
        "!pip install networkx\n",
        "\n",
        "import gudhi\n",
        "import numpy as np\n",
        "import networkx as nx\n",
        "\n",
        "class Letter:\n",
        "    def __init__(self, vertices, arestas, faces):\n",
        "        \"\"\"\n",
        "        Inicializa uma letra com sua triangulação.\n",
        "\n",
        "        :para vertices: Número de vértices (V)\n",
        "        :para arestas: Número de arestas (E)\n",
        "        :para faces: Número de faces (triângulos) (F)\n",
        "        \"\"\"\n",
        "        self.vertices = vertices\n",
        "        self.arestas = arestas\n",
        "        self.faces = faces\n",
        "\n",
        "    def euler_characteristic(self):\n",
        "        \"\"\"\n",
        "        Calcula a característica de Euler usando a fórmula:\n",
        "\n",
        "        \\( \\chi = V - E + F \\)\n",
        "\n",
        "        :return: Característica de Euler (int)\n",
        "        \"\"\"\n",
        "        return self.vertices - self.arestas + self.faces\n",
        "\n",
        "# Exemplo de triangulação para a letra A\n",
        "letter_a = Letter(vertices=6, arestas=9, faces=4)\n",
        "euler_a = letter_a.euler_characteristic()\n",
        "\n",
        "# Exemplo de triangulação para a letra B\n",
        "letter_b = Letter(vertices=8, arestas=14, faces=6)\n",
        "euler_b = letter_b.euler_characteristic()\n",
        "\n",
        "# Exemplo de triangulação para a letra C\n",
        "letter_c = Letter(vertices=4, arestas=4, faces=1)\n",
        "euler_c = letter_c.euler_characteristic()\n",
        "\n",
        "# Exemplo de triangulação para a letra D\n",
        "letter_d = Letter(vertices=6, arestas=9, faces=5)\n",
        "euler_d = letter_d.euler_characteristic()\n",
        "\n",
        "# Exemplo de triangulação para a letra E\n",
        "letter_e = Letter(vertices=4, arestas=4, faces=1)\n",
        "euler_e = letter_e.euler_characteristic()\n",
        "\n",
        "# Exemplo de triangulação para a letra F\n",
        "letter_f = Letter(vertices=4, arestas=4, faces=1)\n",
        "euler_f = letter_f.euler_characteristic()\n",
        "\n",
        "# Exemplo de triangulação para a letra G\n",
        "letter_g = Letter(vertices=8, arestas=10, faces=3)\n",
        "euler_g = letter_g.euler_characteristic()\n",
        "\n",
        "print(f\"Característica de Euler para a letra A: {euler_a}\")\n",
        "print(f\"Característica de Euler para a letra B: {euler_b}\")\n",
        "print(f\"Característica de Euler para a letra C: {euler_c}\")\n",
        "print(f\"Característica de Euler para a letra D: {euler_d}\")\n",
        "print(f\"Característica de Euler para a letra E: {euler_e}\")\n",
        "print(f\"Característica de Euler para a letra F: {euler_f}\")\n",
        "print(f\"Característica de Euler para a letra G: {euler_g}\")"
      ]
    },
    {
      "cell_type": "code",
      "source": [],
      "metadata": {
        "id": "x7potPJfJALS"
      },
      "execution_count": null,
      "outputs": []
    }
  ]
}