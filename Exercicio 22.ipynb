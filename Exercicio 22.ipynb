!pip install gudhi
!pip install networkx

import gudhi
import numpy as np
import networkx as nx

class Letter:
    def __init__(self, vertices, arestas, faces):
        """
        Inicializa uma letra com sua triangulação.

        :para vertices: Número de vértices (V)
        :para arestas: Número de arestas (E)
        :para faces: Número de faces (triângulos) (F)
        """
        self.vertices = vertices
        self.arestas = arestas
        self.faces = faces

    def euler_characteristic(self):
        """
        Calcula a característica de Euler usando a fórmula:
        
        \( \chi = V - E + F \)
        
        :return: Característica de Euler (int)
        """
        return self.vertices - self.arestas + self.faces

# Exemplo de triangulação para a letra A
letter_a = Letter(vertices=6, arestas=9, faces=4)
euler_a = letter_a.euler_characteristic()

# Exemplo de triangulação para a letra B
letter_b = Letter(vertices=8, arestas=14, faces=6)
euler_b = letter_b.euler_characteristic()

# Exemplo de triangulação para a letra C
letter_c = Letter(vertices=4, arestas=4, faces=1)
euler_c = letter_c.euler_characteristic()

# Exemplo de triangulação para a letra D
letter_d = Letter(vertices=6, arestas=9, faces=5)  
euler_d = letter_d.euler_characteristic()

# Exemplo de triangulação para a letra E
letter_e = Letter(vertices=4, arestas=4, faces=1)  
euler_e = letter_e.euler_characteristic()

# Exemplo de triangulação para a letra F
letter_f = Letter(vertices=4, arestas=4, faces=1)  
euler_f = letter_f.euler_characteristic()

# Exemplo de triangulação para a letra G
letter_g = Letter(vertices=8, arestas=10, faces=3)  
euler_g = letter_g.euler_characteristic()

print(f"Característica de Euler para a letra A: {euler_a}")
print(f"Característica de Euler para a letra B: {euler_b}")
print(f"Característica de Euler para a letra C: {euler_c}")
print(f"Característica de Euler para a letra D: {euler_d}")
print(f"Característica de Euler para a letra E: {euler_e}")
print(f"Característica de Euler para a letra F: {euler_f}")
print(f"Característica de Euler para a letra G: {euler_g}")
